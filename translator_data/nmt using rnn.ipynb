{
 "cells": [
  {
   "cell_type": "markdown",
   "metadata": {},
   "source": [
    "### Requirements"
   ]
  },
  {
   "cell_type": "code",
   "execution_count": 1,
   "metadata": {},
   "outputs": [],
   "source": [
    "from __future__ import unicode_literals, print_function, division\n",
    "%matplotlib inline\n",
    "\n",
    "from io import open\n",
    "import unicodedata\n",
    "import string\n",
    "import re\n",
    "import random\n",
    "\n",
    "import torch\n",
    "import torch.nn as nn\n",
    "from torch import optim\n",
    "import torch.nn.functional as F\n",
    "\n",
    "device = torch.device(\"cuda\" if torch.cuda.is_available() else \"cpu\")"
   ]
  },
  {
   "cell_type": "markdown",
   "metadata": {},
   "source": [
    "Each word in a language will be represented as a one-hot vector, or giant vector of zeros except for a single one (at the index of the word).\n",
    "\n",
    "To keep track of all this we are using a helper class called Lang which has word → index (word2index) and index → word (index2word) dictionaries, as well as a count of each word word2count which will be used to replace rare words later."
   ]
  },
  {
   "cell_type": "code",
   "execution_count": 2,
   "metadata": {},
   "outputs": [],
   "source": [
    "SOS_token = 0\n",
    "EOS_token = 1\n",
    "\n",
    "\n",
    "class Lang:\n",
    "    def __init__(self, name):\n",
    "        self.name = name\n",
    "        self.word2index = {}\n",
    "        self.word2count = {}\n",
    "        self.index2word = {0: \"SOS\", 1: \"EOS\"}\n",
    "        self.n_words = 2  # Count SOS and EOS\n",
    "\n",
    "    def addSentence(self, sentence):\n",
    "        for word in sentence.split(' '):\n",
    "            self.addWord(word)\n",
    "\n",
    "    def addWord(self, word):\n",
    "        if word not in self.word2index:\n",
    "            self.word2index[word] = self.n_words\n",
    "            self.word2count[word] = 1\n",
    "            self.index2word[self.n_words] = word\n",
    "            self.n_words += 1\n",
    "        else:\n",
    "            self.word2count[word] += 1"
   ]
  },
  {
   "cell_type": "markdown",
   "metadata": {},
   "source": [
    "To make sure the files are all in ASCII, make everything lowercase, and trim most punctuation."
   ]
  },
  {
   "cell_type": "code",
   "execution_count": 3,
   "metadata": {},
   "outputs": [],
   "source": [
    "# Turn a Unicode string to plain\n",
    "\n",
    "def unicodeToAscii(s):\n",
    "    return ''.join(\n",
    "        c for c in unicodedata.normalize('NFD', s)\n",
    "        if unicodedata.category(c) != 'Mn'\n",
    "    )\n",
    "\n",
    "# Lowercase, trim, and remove non-letter characters\n",
    "\n",
    "\n",
    "def normalizeString(s):\n",
    "    s = unicodeToAscii(s.lower().strip())\n",
    "    s = re.sub(r\"([.!?])\", r\" \\1\", s)\n",
    "    s = re.sub(r\"[^a-zA-Z.!?]+\", r\" \", s)\n",
    "    return s"
   ]
  },
  {
   "cell_type": "markdown",
   "metadata": {},
   "source": [
    "To read the data file we will split the file into lines, and then split lines into pairs. The file is English → Chichewa, so if we want to translate from Chichewa → English we need to add the reverse flag to reverse the pairs."
   ]
  },
  {
   "cell_type": "code",
   "execution_count": 4,
   "metadata": {},
   "outputs": [],
   "source": [
    "# Read the data into a DataFrame\n",
    "import pandas as pd\n",
    "import numpy as np\n",
    "\n",
    "def readLangs(lang1, lang2, reverse=False):\n",
    "    print(\"Reading lines...\")\n",
    "\n",
    "    df = pd.read_csv('data/%s-%s.csv' % (lang1, lang2), names=[lang1, lang2], encoding='mac_roman')\n",
    "    eng_lang = np.array(df[lang1])\n",
    "    chi_lang = np.array(df[lang2])\n",
    "    \n",
    "    lines = []\n",
    "\n",
    "    for i in range(len(eng_lang)):\n",
    "        lines.append(eng_lang[i]+'\\t'+chi_lang[i])\n",
    "    \n",
    "    # Read the file and split into lines\n",
    "    # lines = open('data/%s-%s.csv' % (lang1, lang2), encoding='mac_roman').read().strip().split('\\n')\n",
    "    \n",
    "\n",
    "    # Split every line into pairs and normalize\n",
    "    pairs = [[normalizeString(s) for s in l.split('\\t')] for l in lines]\n",
    "\n",
    "    # Reverse pairs, make Lang instances\n",
    "    if reverse:\n",
    "        pairs = [list(reversed(p)) for p in pairs]\n",
    "        input_lang = Lang(lang2)\n",
    "        output_lang = Lang(lang1)\n",
    "    else:\n",
    "        input_lang = Lang(lang1)\n",
    "        output_lang = Lang(lang2)\n",
    "\n",
    "    return input_lang, output_lang, pairs"
   ]
  },
  {
   "cell_type": "markdown",
   "metadata": {},
   "source": [
    "The full process for preparing the data is:\n",
    "\n",
    "- Read text file and split into lines, split lines into pairs\n",
    "- Normalize text, filter by length and content\n",
    "- Make word lists from sentences in pairs"
   ]
  },
  {
   "cell_type": "code",
   "execution_count": 29,
   "metadata": {},
   "outputs": [
    {
     "name": "stdout",
     "output_type": "stream",
     "text": [
      "Reading lines...\n",
      "Read 425 sentence pairs\n",
      "Counting words...\n",
      "Counted words:\n",
      "eng 1633\n",
      "chi 1787\n",
      "['build capacity in all sectors and at all levels in climate change', 'kupereka maphunziro ku magawo onse ndiponso mlingo uliwonse wokhudza chidziwitso cha kusintha kwa nyengo']\n"
     ]
    }
   ],
   "source": [
    "def prepareData(lang1, lang2, reverse=False):\n",
    "    input_lang, output_lang, pairs = readLangs(lang1, lang2, reverse)\n",
    "    print(\"Read %s sentence pairs\" % len(pairs))\n",
    "    #pairs = filterPairs(pairs)\n",
    "    #print(\"Trimmed to %s sentence pairs\" % len(pairs))\n",
    "    print(\"Counting words...\")\n",
    "    for pair in pairs:\n",
    "        input_lang.addSentence(pair[0])\n",
    "        output_lang.addSentence(pair[1])\n",
    "    print(\"Counted words:\")\n",
    "    print(input_lang.name, input_lang.n_words)\n",
    "    print(output_lang.name, output_lang.n_words)\n",
    "    return input_lang, output_lang, pairs\n",
    "\n",
    "\n",
    "input_lang, output_lang, pairs = prepareData('eng', 'chi', False)\n",
    "print(random.choice(pairs))"
   ]
  },
  {
   "cell_type": "markdown",
   "metadata": {},
   "source": [
    "## The Seq2Seq Model\n",
    "\n",
    "A Recurrent Neural Network, or RNN, is a network that operates on a sequence and uses its own output as input for subsequent steps.\n",
    "\n",
    "A Sequence to Sequence network, or seq2seq network, or Encoder Decoder network, is a model consisting of two RNNs called the encoder and decoder. The encoder reads an input sequence and outputs a single vector, and the decoder reads that vector to produce an output sequence.\n",
    "\n",
    "Unlike sequence prediction with a single RNN, where every input corresponds to an output, the seq2seq model frees us from sequence length and order, which makes it ideal for translation between two languages."
   ]
  },
  {
   "cell_type": "markdown",
   "metadata": {},
   "source": [
    "### The Encoder\n",
    "The encoder of a seq2seq network is a RNN that outputs some value for every word from the input sentence. For every input word the encoder outputs a vector and a hidden state, and uses the hidden state for the next input word."
   ]
  },
  {
   "cell_type": "code",
   "execution_count": 8,
   "metadata": {},
   "outputs": [],
   "source": [
    "class EncoderRNN(nn.Module):\n",
    "    def __init__(self, input_size, hidden_size):\n",
    "        super(EncoderRNN, self).__init__()\n",
    "        self.hidden_size = hidden_size\n",
    "\n",
    "        self.embedding = nn.Embedding(input_size, hidden_size)\n",
    "        self.gru = nn.GRU(hidden_size, hidden_size)\n",
    "\n",
    "    def forward(self, input, hidden):\n",
    "        embedded = self.embedding(input).view(1, 1, -1)\n",
    "        output = embedded\n",
    "        output, hidden = self.gru(output, hidden)\n",
    "        return output, hidden\n",
    "\n",
    "    def initHidden(self):\n",
    "        return torch.zeros(1, 1, self.hidden_size, device=device)"
   ]
  },
  {
   "cell_type": "markdown",
   "metadata": {},
   "source": [
    "### The Decoder\n",
    "The decoder is another RNN that takes the encoder output vector(s) and outputs a sequence of words to create the translation.\n",
    "\n",
    "Simple Decoder\n",
    "In the simplest seq2seq decoder we use only last output of the encoder. This last output is sometimes called the context vector as it encodes context from the entire sequence. This context vector is used as the initial hidden state of the decoder.\n",
    "\n",
    "At every step of decoding, the decoder is given an input token and hidden state. The initial input token is the start-of-string \\<SOS\\> token, and the first hidden state is the context vector (the encoder’s last hidden state)."
   ]
  },
  {
   "cell_type": "code",
   "execution_count": 9,
   "metadata": {},
   "outputs": [],
   "source": [
    "class DecoderRNN(nn.Module):\n",
    "    def __init__(self, hidden_size, output_size):\n",
    "        super(DecoderRNN, self).__init__()\n",
    "        self.hidden_size = hidden_size\n",
    "\n",
    "        self.embedding = nn.Embedding(output_size, hidden_size)\n",
    "        self.gru = nn.GRU(hidden_size, hidden_size)\n",
    "        self.out = nn.Linear(hidden_size, output_size)\n",
    "        self.softmax = nn.LogSoftmax(dim=1)\n",
    "\n",
    "    def forward(self, input, hidden):\n",
    "        output = self.embedding(input).view(1, 1, -1)\n",
    "        output = F.relu(output)\n",
    "        output, hidden = self.gru(output, hidden)\n",
    "        output = self.softmax(self.out(output[0]))\n",
    "        return output, hidden\n",
    "\n",
    "    def initHidden(self):\n",
    "        return torch.zeros(1, 1, self.hidden_size, device=device)"
   ]
  },
  {
   "cell_type": "markdown",
   "metadata": {},
   "source": [
    "#### The Attention Decoder\n",
    "If only the context vector is passed between the encoder and decoder, that single vector carries the burden of encoding the entire sentence.\n",
    "\n",
    "Attention allows the decoder network to “focus” on a different part of the encoder’s outputs for every step of the decoder’s own outputs. First we calculate a set of attention weights. These will be multiplied by the encoder output vectors to create a weighted combination. The result (called attn_applied in the code) should contain information about that specific part of the input sequence, and thus help the decoder choose the right output words.\n",
    "\n",
    "Calculating the attention weights is done with another feed-forward layer attn, using the decoder’s input and hidden state as inputs. Because there are sentences of all sizes in the training data, to actually create and train this layer we have to choose a maximum sentence length (input length, for encoder outputs) that it can apply to. Sentences of the maximum length will use all the attention weights, while shorter sentences will only use the first few."
   ]
  },
  {
   "cell_type": "code",
   "execution_count": 10,
   "metadata": {},
   "outputs": [],
   "source": [
    "MAX_LENGTH = 70\n",
    "\n",
    "class AttnDecoderRNN(nn.Module):\n",
    "    def __init__(self, hidden_size, output_size, dropout_p=0.1, max_length=MAX_LENGTH):\n",
    "        super(AttnDecoderRNN, self).__init__()\n",
    "        self.hidden_size = hidden_size\n",
    "        self.output_size = output_size\n",
    "        self.dropout_p = dropout_p\n",
    "        self.max_length = max_length\n",
    "\n",
    "        self.embedding = nn.Embedding(self.output_size, self.hidden_size)\n",
    "        self.attn = nn.Linear(self.hidden_size * 2, self.max_length)\n",
    "        self.attn_combine = nn.Linear(self.hidden_size * 2, self.hidden_size)\n",
    "        self.dropout = nn.Dropout(self.dropout_p)\n",
    "        self.gru = nn.GRU(self.hidden_size, self.hidden_size)\n",
    "        self.out = nn.Linear(self.hidden_size, self.output_size)\n",
    "\n",
    "    def forward(self, input, hidden, encoder_outputs):\n",
    "        embedded = self.embedding(input).view(1, 1, -1)\n",
    "        embedded = self.dropout(embedded)\n",
    "\n",
    "        attn_weights = F.softmax(\n",
    "            self.attn(torch.cat((embedded[0], hidden[0]), 1)), dim=1)\n",
    "        attn_applied = torch.bmm(attn_weights.unsqueeze(0),\n",
    "                                 encoder_outputs.unsqueeze(0))\n",
    "\n",
    "        output = torch.cat((embedded[0], attn_applied[0]), 1)\n",
    "        output = self.attn_combine(output).unsqueeze(0)\n",
    "\n",
    "        output = F.relu(output)\n",
    "        output, hidden = self.gru(output, hidden)\n",
    "\n",
    "        output = F.log_softmax(self.out(output[0]), dim=1)\n",
    "        return output, hidden, attn_weights\n",
    "\n",
    "    def initHidden(self):\n",
    "        return torch.zeros(1, 1, self.hidden_size, device=device)"
   ]
  },
  {
   "cell_type": "markdown",
   "metadata": {},
   "source": [
    "## Training"
   ]
  },
  {
   "cell_type": "markdown",
   "metadata": {},
   "source": [
    "### Preparing Data for Training\n",
    "\n",
    "To train, for each pair we will need an input tensor (indexes of the words in the input sentence) and target tensor (indexes of the words in the target sentence). While creating these vectors we will append the EOS token to both sequences"
   ]
  },
  {
   "cell_type": "code",
   "execution_count": 11,
   "metadata": {},
   "outputs": [],
   "source": [
    "def indexesFromSentence(lang, sentence):\n",
    "    return [lang.word2index[word] for word in sentence.split(' ')]\n",
    "\n",
    "\n",
    "def tensorFromSentence(lang, sentence):\n",
    "    indexes = indexesFromSentence(lang, sentence)\n",
    "    indexes.append(EOS_token)\n",
    "    return torch.tensor(indexes, dtype=torch.long, device=device).view(-1, 1)\n",
    "\n",
    "\n",
    "def tensorsFromPair(pair):\n",
    "    input_tensor = tensorFromSentence(input_lang, pair[0])\n",
    "    target_tensor = tensorFromSentence(output_lang, pair[1])\n",
    "    return (input_tensor, target_tensor)"
   ]
  },
  {
   "cell_type": "markdown",
   "metadata": {},
   "source": [
    "### Training the Model\n",
    "\n",
    "To train we run the input sentence through the encoder, and keep track of every output and the latest hidden state. Then the decoder is given the <SOS> token as its first input, and the last hidden state of the encoder as its first hidden state.\n",
    "\n",
    "“Teacher forcing” is the concept of using the real target outputs as each next input, instead of using the decoder’s guess as the next input. Using teacher forcing causes it to converge faster"
   ]
  },
  {
   "cell_type": "code",
   "execution_count": null,
   "metadata": {},
   "outputs": [],
   "source": [
    "teacher_forcing_ratio = 0.5\n",
    "\n",
    "\n",
    "def train(input_tensor, target_tensor, encoder, decoder, encoder_optimizer, decoder_optimizer, criterion, max_length=MAX_LENGTH):\n",
    "    encoder_hidden = encoder.initHidden()\n",
    "\n",
    "    encoder_optimizer.zero_grad()\n",
    "    decoder_optimizer.zero_grad()\n",
    "\n",
    "    input_length = input_tensor.size(0)\n",
    "    target_length = target_tensor.size(0)\n",
    "\n",
    "    encoder_outputs = torch.zeros(max_length, encoder.hidden_size, device=device)\n",
    "\n",
    "    loss = 0\n",
    "\n",
    "    for ei in range(input_length):\n",
    "        encoder_output, encoder_hidden = encoder(\n",
    "            input_tensor[ei], encoder_hidden)\n",
    "        encoder_outputs[ei] = encoder_output[0, 0]\n",
    "\n",
    "    decoder_input = torch.tensor([[SOS_token]], device=device)\n",
    "\n",
    "    decoder_hidden = encoder_hidden\n",
    "\n",
    "    use_teacher_forcing = True if random.random() < teacher_forcing_ratio else False\n",
    "\n",
    "    if use_teacher_forcing:\n",
    "        # Teacher forcing: Feed the target as the next input\n",
    "        for di in range(target_length):\n",
    "            decoder_output, decoder_hidden, decoder_attention = decoder(\n",
    "                decoder_input, decoder_hidden, encoder_outputs)\n",
    "            loss += criterion(decoder_output, target_tensor[di])\n",
    "            decoder_input = target_tensor[di]  # Teacher forcing\n",
    "\n",
    "    else:\n",
    "        # Without teacher forcing: use its own predictions as the next input\n",
    "        for di in range(target_length):\n",
    "            decoder_output, decoder_hidden, decoder_attention = decoder(\n",
    "                decoder_input, decoder_hidden, encoder_outputs)\n",
    "            topv, topi = decoder_output.topk(1)\n",
    "            decoder_input = topi.squeeze().detach()  # detach from history as input\n",
    "\n",
    "            loss += criterion(decoder_output, target_tensor[di])\n",
    "            if decoder_input.item() == EOS_token:\n",
    "                break\n",
    "\n",
    "    loss.backward()\n",
    "\n",
    "    encoder_optimizer.step()\n",
    "    decoder_optimizer.step()\n",
    "\n",
    "    return loss.item() / target_length"
   ]
  },
  {
   "cell_type": "markdown",
   "metadata": {},
   "source": [
    "Helper function to print time elapsed and estimated time remaining given the current time and progress %."
   ]
  },
  {
   "cell_type": "code",
   "execution_count": null,
   "metadata": {},
   "outputs": [],
   "source": [
    "import time\n",
    "import math\n",
    "\n",
    "\n",
    "def asMinutes(s):\n",
    "    m = math.floor(s / 60)\n",
    "    s -= m * 60\n",
    "    return '%dm %ds' % (m, s)\n",
    "\n",
    "\n",
    "def timeSince(since, percent):\n",
    "    now = time.time()\n",
    "    s = now - since\n",
    "    es = s / (percent)\n",
    "    rs = es - s\n",
    "    return '%s (- %s)' % (asMinutes(s), asMinutes(rs))"
   ]
  },
  {
   "cell_type": "markdown",
   "metadata": {},
   "source": [
    "The whole training process looks like this:\n",
    "\n",
    "- Start a timer\n",
    "- Initialize optimizers and criterion\n",
    "- Create set of training pairs\n",
    "- Start empty losses array for plotting"
   ]
  },
  {
   "cell_type": "code",
   "execution_count": null,
   "metadata": {},
   "outputs": [],
   "source": [
    "def trainIters(encoder, decoder, n_iters, print_every=1000, plot_every=100, learning_rate=0.01):\n",
    "    start = time.time()\n",
    "    plot_losses = []\n",
    "    print_loss_total = 0  # Reset every print_every\n",
    "    plot_loss_total = 0  # Reset every plot_every\n",
    "\n",
    "    encoder_optimizer = optim.SGD(encoder.parameters(), lr=learning_rate)\n",
    "    decoder_optimizer = optim.SGD(decoder.parameters(), lr=learning_rate)\n",
    "    training_pairs = [tensorsFromPair(random.choice(pairs))\n",
    "                      for i in range(n_iters)]\n",
    "    criterion = nn.NLLLoss()\n",
    "\n",
    "    for iter in range(1, n_iters + 1):\n",
    "        training_pair = training_pairs[iter - 1]\n",
    "        input_tensor = training_pair[0]\n",
    "        target_tensor = training_pair[1]\n",
    "\n",
    "        loss = train(input_tensor, target_tensor, encoder,\n",
    "                     decoder, encoder_optimizer, decoder_optimizer, criterion)\n",
    "        print_loss_total += loss\n",
    "        plot_loss_total += loss\n",
    "\n",
    "        if iter % print_every == 0:\n",
    "            print_loss_avg = print_loss_total / print_every\n",
    "            print_loss_total = 0\n",
    "            print('%s (%d %d%%) %.4f' % (timeSince(start, iter / n_iters),\n",
    "                                         iter, iter / n_iters * 100, print_loss_avg))\n",
    "\n",
    "        if iter % plot_every == 0:\n",
    "            plot_loss_avg = plot_loss_total / plot_every\n",
    "            plot_losses.append(plot_loss_avg)\n",
    "            plot_loss_total = 0\n",
    "\n",
    "    showPlot(plot_losses)"
   ]
  },
  {
   "cell_type": "markdown",
   "metadata": {},
   "source": [
    "#### Plotting results\n",
    "\n",
    "Plotting is done with matplotlib, using the array of loss values plot_losses saved while training."
   ]
  },
  {
   "cell_type": "code",
   "execution_count": null,
   "metadata": {},
   "outputs": [],
   "source": [
    "import matplotlib.pyplot as plt\n",
    "plt.switch_backend('agg')\n",
    "import matplotlib.ticker as ticker\n",
    "import numpy as np\n",
    "\n",
    "\n",
    "def showPlot(points):\n",
    "    plt.figure()\n",
    "    fig, ax = plt.subplots()\n",
    "    # this locator puts ticks at regular intervals\n",
    "    loc = ticker.MultipleLocator(base=0.2)\n",
    "    ax.yaxis.set_major_locator(loc)\n",
    "    plt.plot(points)"
   ]
  },
  {
   "cell_type": "markdown",
   "metadata": {},
   "source": [
    "### Evaluation\n",
    "\n",
    "Evaluation is mostly the same as training, but there are no targets so we simply feed the decoder’s predictions back to itself for each step. Every time it predicts a word we add it to the output string, and if it predicts the EOS token we stop there. We also store the decoder’s attention outputs for display later."
   ]
  },
  {
   "cell_type": "code",
   "execution_count": 12,
   "metadata": {},
   "outputs": [],
   "source": [
    "def evaluate(encoder, decoder, sentence, max_length=MAX_LENGTH):\n",
    "    with torch.no_grad():\n",
    "        input_tensor = tensorFromSentence(input_lang, sentence)\n",
    "        input_length = input_tensor.size()[0]\n",
    "        encoder_hidden = encoder.initHidden()\n",
    "\n",
    "        encoder_outputs = torch.zeros(max_length, encoder.hidden_size, device=device)\n",
    "\n",
    "        for ei in range(input_length):\n",
    "            encoder_output, encoder_hidden = encoder(input_tensor[ei],\n",
    "                                                     encoder_hidden)\n",
    "            encoder_outputs[ei] += encoder_output[0, 0]\n",
    "\n",
    "        decoder_input = torch.tensor([[SOS_token]], device=device)  # SOS\n",
    "\n",
    "        decoder_hidden = encoder_hidden\n",
    "\n",
    "        decoded_words = []\n",
    "        decoder_attentions = torch.zeros(max_length, max_length)\n",
    "\n",
    "        for di in range(max_length):\n",
    "            decoder_output, decoder_hidden, decoder_attention = decoder(\n",
    "                decoder_input, decoder_hidden, encoder_outputs)\n",
    "            decoder_attentions[di] = decoder_attention.data\n",
    "            topv, topi = decoder_output.data.topk(1)\n",
    "            if topi.item() == EOS_token:\n",
    "                decoded_words.append('<EOS>')\n",
    "                break\n",
    "            else:\n",
    "                decoded_words.append(output_lang.index2word[topi.item()])\n",
    "\n",
    "            decoder_input = topi.squeeze().detach()\n",
    "\n",
    "        return decoded_words, decoder_attentions[:di + 1]"
   ]
  },
  {
   "cell_type": "markdown",
   "metadata": {},
   "source": [
    "We can evaluate random sentences from the training set and print out the input, target, and output to make some subjective quality judgements:"
   ]
  },
  {
   "cell_type": "code",
   "execution_count": 13,
   "metadata": {},
   "outputs": [],
   "source": [
    "def evaluateRandomly(encoder, decoder, n=5):\n",
    "    for i in range(n):\n",
    "        pair = random.choice(pairs)\n",
    "        print('>', pair[0])\n",
    "        print('=', pair[1])\n",
    "        output_words, attentions = evaluate(encoder, decoder, pair[0])\n",
    "        output_sentence = ' '.join(output_words)\n",
    "        print('<', output_sentence)\n",
    "        print('')"
   ]
  },
  {
   "cell_type": "markdown",
   "metadata": {},
   "source": [
    "### Training and Evaluating\n",
    "\n",
    "With all these helper functions in place, makes it easier to run multiple experiments."
   ]
  },
  {
   "cell_type": "code",
   "execution_count": 14,
   "metadata": {},
   "outputs": [],
   "source": [
    "hidden_size = 256\n",
    "encoder1 = EncoderRNN(input_lang.n_words, hidden_size).to(device)\n",
    "attn_decoder1 = AttnDecoderRNN(hidden_size, output_lang.n_words, dropout_p=0.1).to(device)\n",
    "\n",
    "# trainIters(encoder1, attn_decoder1, 7000, print_every=700)"
   ]
  },
  {
   "cell_type": "code",
   "execution_count": 24,
   "metadata": {},
   "outputs": [
    {
     "name": "stdout",
     "output_type": "stream",
     "text": [
      "> these events include prolonged dry spells seasonal droughts intense rainfall riverine floods and flash floods\n",
      "= mavuto a zanyengo ndi monga chilala mvula yochuluka kwambiri kusefukira kwa mitsinje ndi madzi osefukira\n",
      "< nditakwatiwa amalawi no owona owona owona owona owona unagwirizana amalawi oyang no zathandiza no ubale oxfam oxfam oxfam owona owona owona owona owona unagwirizana amalawi oyang no zathandiza no ubale oxfam oxfam oxfam owona owona owona owona owona unagwirizana amalawi oyang no zathandiza no ubale oxfam oxfam oxfam owona owona owona owona owona unagwirizana amalawi oyang no zathandiza no ubale oxfam oxfam oxfam owona owona owona owona owona unagwirizana amalawi\n",
      "\n",
      "> inadequate enforcement of climate relevant legislation\n",
      "= kuchepekedwa polimbikitsa kutsata malamulo okhudza za zanyengo\n",
      "< obwera owona owona owona owona owona unagwirizana amalawi oyang no zathandiza no ubale oxfam oxfam oxfam owona owona owona owona owona unagwirizana amalawi oyang no zathandiza no ubale oxfam oxfam oxfam owona owona owona owona owona unagwirizana amalawi oyang no zathandiza no ubale oxfam oxfam oxfam owona owona owona owona owona unagwirizana amalawi oyang no zathandiza no ubale oxfam oxfam oxfam owona owona owona owona owona unagwirizana amalawi oyang no\n",
      "\n",
      "> and in spite of the government of malawi and other organizationso interventions \n",
      "= komanso posatengera kuti boma la malawi ndi a mabungwe akuyesetsa kuchitapo kanthu \n",
      "< nditakwatiwa chinadza amalawi malimidwe ogwirizana komabe zochenjezera atha tinaona zochenjezera mitundu anthuwa amalawi oyang malimidwe no zathandiza no ubale oxfam oxfam oxfam owona owona owona owona owona unagwirizana amalawi oyang no zathandiza no ubale oxfam oxfam oxfam owona owona owona owona owona unagwirizana amalawi oyang no zathandiza no ubale oxfam oxfam oxfam owona owona owona owona owona unagwirizana amalawi oyang no zathandiza no ubale oxfam oxfam oxfam owona owona owona\n",
      "\n",
      "> according to the united nations entity for gender equality and the empowerment of women the country is losing . percent of its gross domestic product o about usd million mk billion o on average every year due to the combined effects of drought and floods .\n",
      "= malingana ndi bungwe loona kuti pasakhale kusiyana pakati pa amayi ndi abambo mu mgwirizano wa maiko a dziko lonse boma limataya ndalama zoposa biliyoni kwacha pachaka chifukwa cha chilala ndi kusefukira kwa madzi .\n",
      "< lina miyezi no amalawi no ubale amalawi no zathandiza no ubale oxfam oxfam oxfam owona owona owona owona owona owona owona unagwirizana amalawi oyang no zathandiza no ubale oxfam oxfam oxfam owona owona owona owona owona owona owona unagwirizana amalawi oyang no zathandiza no ubale oxfam oxfam oxfam owona owona owona owona owona owona owona unagwirizana amalawi oyang no zathandiza no ubale oxfam oxfam oxfam owona owona owona owona owona\n",
      "\n",
      "> the need for more research and training in climate change issues in malawi cannot be overemphasized .\n",
      "= zokuti pakufunika kafukufuku ndi maphunziro mu nkhani za kusintha kwa nyengo ndizachidziwikile .\n",
      "< obwera no owona owona owona owona owona unagwirizana amalawi oyang no zathandiza no ubale oxfam oxfam oxfam owona owona owona owona owona unagwirizana amalawi oyang no zathandiza no ubale oxfam oxfam oxfam owona owona owona owona owona unagwirizana amalawi oyang no zathandiza no ubale oxfam oxfam oxfam owona owona owona owona owona unagwirizana amalawi oyang no zathandiza no ubale oxfam oxfam oxfam owona owona owona owona owona unagwirizana amalawi oyang\n",
      "\n"
     ]
    }
   ],
   "source": [
    "evaluateRandomly(encoder1, attn_decoder1)"
   ]
  },
  {
   "cell_type": "code",
   "execution_count": 25,
   "metadata": {},
   "outputs": [],
   "source": [
    "hidden_size = 256"
   ]
  },
  {
   "cell_type": "markdown",
   "metadata": {},
   "source": [
    "### Save model"
   ]
  },
  {
   "cell_type": "code",
   "execution_count": 26,
   "metadata": {},
   "outputs": [],
   "source": [
    "torch.save(encoder1.state_dict(), 'models/model.encoder.09apr04_ch')\r\n",
    "torch.save(attn_decoder1.state_dict(), 'models/model.decoder.09apr04_ch')"
   ]
  },
  {
   "cell_type": "markdown",
   "metadata": {},
   "source": [
    "### Load model"
   ]
  },
  {
   "cell_type": "code",
   "execution_count": 27,
   "metadata": {},
   "outputs": [
    {
     "data": {
      "text/plain": [
       "EncoderRNN(\n",
       "  (embedding): Embedding(1633, 256)\n",
       "  (gru): GRU(256, 256)\n",
       ")"
      ]
     },
     "execution_count": 27,
     "metadata": {},
     "output_type": "execute_result"
    }
   ],
   "source": [
    "encoder1 = EncoderRNN(input_lang.n_words, hidden_size).to(device)\r\n",
    "encoder1.load_state_dict(torch.load('models/model.encoder.09apr04_ch'))\r\n",
    "encoder1.eval()"
   ]
  },
  {
   "cell_type": "code",
   "execution_count": 28,
   "metadata": {},
   "outputs": [
    {
     "data": {
      "text/plain": [
       "AttnDecoderRNN(\n",
       "  (embedding): Embedding(1787, 256)\n",
       "  (attn): Linear(in_features=512, out_features=70, bias=True)\n",
       "  (attn_combine): Linear(in_features=512, out_features=256, bias=True)\n",
       "  (dropout): Dropout(p=0.1, inplace=False)\n",
       "  (gru): GRU(256, 256)\n",
       "  (out): Linear(in_features=256, out_features=1787, bias=True)\n",
       ")"
      ]
     },
     "execution_count": 28,
     "metadata": {},
     "output_type": "execute_result"
    }
   ],
   "source": [
    "attn_decoder1 = AttnDecoderRNN(hidden_size, output_lang.n_words, dropout_p=0.1).to(device)\r\n",
    "attn_decoder1.load_state_dict(torch.load('models/model.decoder.09apr04_ch'))\r\n",
    "attn_decoder1.eval()"
   ]
  },
  {
   "cell_type": "code",
   "execution_count": 21,
   "metadata": {},
   "outputs": [
    {
     "name": "stdout",
     "output_type": "stream",
     "text": [
      "> making our households and communities more vulnerable to climate change and deepening poverty\n",
      "= mchitidwewu umapangitsanso kuti nyengo izisintha mwachangu ndipo umphawi umachuluka popeza anthu amasowa pogwira ntchito za ulimi zikalowa pansi .\n",
      "< m ayamba ayamba ayamba zathandiza no zathandiza no no ubale amalawi no edzi ogwirizana amalawi yopereka oxfam oxfam owona owona owona owona owona unagwirizana amalawi oyang no zathandiza no ubale oxfam oxfam oxfam owona owona owona owona owona unagwirizana amalawi oyang no zathandiza no ubale oxfam oxfam oxfam owona owona owona owona owona unagwirizana amalawi oyang no zathandiza no ubale oxfam oxfam oxfam owona owona owona owona owona unagwirizana amalawi\n",
      "\n",
      "> the policy will \n",
      "= ndondomeko zidzachita izi \n",
      "< tidapatsidwa owona owona owona owona owona unagwirizana amalawi oyang no zathandiza no ubale oxfam oxfam oxfam owona owona owona owona owona unagwirizana amalawi oyang no zathandiza no ubale oxfam oxfam oxfam owona owona owona owona owona unagwirizana amalawi oyang no zathandiza no ubale oxfam oxfam oxfam owona owona owona owona owona unagwirizana amalawi oyang no zathandiza no ubale oxfam oxfam oxfam owona owona owona owona owona unagwirizana amalawi oyang no\n",
      "\n",
      "> development partners provide resources for government and civil society organizations in malawi to carry out developmental activities .\n",
      "= abale ogwira nawo ntchito za chitukuko amapereka zofunika ku boma ndi ma bungwe owona za ufulu wa anthu mu malawi kuti agwire ntchito za chitukuko .\n",
      "< lina miyezi bungwe bungwe kutengapo mitundu anthuwa amalawi oyang malimidwe ogwirizana alendo ilibe ilibe zochenjezera kachepetsedwe ilibe ilibe zathandiza no vuto oxfam oxfam owona owona owona owona owona owona unagwirizana amalawi oyang no zathandiza no ubale oxfam oxfam oxfam owona owona owona owona owona unagwirizana amalawi oyang no zathandiza no ubale oxfam oxfam oxfam owona owona owona owona owona unagwirizana amalawi oyang no zathandiza no ubale oxfam oxfam oxfam owona\n",
      "\n",
      "> droughts in had severe effects on food security in many districts with approximately million people affected o particularly in the south .\n",
      "= chilala mu zaka za ndi chinaonjezera mavuto a kusowa kwa chakudya m maboma ambiri anthu okhudziwa anafika miliyoni makamaka m chigawo cha kumwera .\n",
      "< nawonso amalawi no owona owona owona owona owona owona unagwirizana amalawi oyang no zathandiza no ubale oxfam oxfam oxfam owona owona owona owona owona owona unagwirizana amalawi oyang no zathandiza no ubale oxfam oxfam oxfam owona owona owona owona owona owona unagwirizana amalawi oyang no zathandiza no ubale oxfam oxfam oxfam owona owona owona owona owona owona unagwirizana amalawi oyang no zathandiza no ubale oxfam oxfam oxfam owona owona owona\n",
      "\n",
      "> by promoting climate change adaptive development in the long term\n",
      "= chifukwa cha kusintha kwa nyengo polimbikitsa njira zochepetsera mavuto obwera ndi kusintha kwa\n",
      "< kufalitsa chimemechi sichinafikire zathandiza no zathandiza no ubale oxfam oxfam oxfam owona owona owona owona owona unagwirizana amalawi oyang no zathandiza no no ubale amalawi no edzi ogwirizana amalawi yopereka oxfam oxfam owona owona owona owona owona unagwirizana amalawi oyang no zathandiza no no ubale amalawi no edzi ogwirizana amalawi yopereka oxfam oxfam owona owona owona owona owona unagwirizana amalawi oyang no zathandiza no no ubale amalawi no edzi ogwirizana\n",
      "\n"
     ]
    }
   ],
   "source": [
    "evaluateRandomly(encoder1, attn_decoder1)"
   ]
  },
  {
   "cell_type": "code",
   "execution_count": null,
   "metadata": {},
   "outputs": [],
   "source": [
    "evaluate(encoder1, attn_decoder1, \"ngakhale dziko la malawi limatulutsa mpweya umene umaononga thambo loteteza mlengalenga\")"
   ]
  },
  {
   "cell_type": "code",
   "execution_count": 23,
   "metadata": {},
   "outputs": [
    {
     "data": {
      "text/plain": [
       "(['kufalitsa',\n",
       "  'chimemechi',\n",
       "  'sichinafikire',\n",
       "  'zathandiza',\n",
       "  'no',\n",
       "  'zathandiza',\n",
       "  'no',\n",
       "  'ubale',\n",
       "  'oxfam',\n",
       "  'oxfam',\n",
       "  'oxfam',\n",
       "  'owona',\n",
       "  'owona',\n",
       "  'owona',\n",
       "  'owona',\n",
       "  'owona',\n",
       "  'unagwirizana',\n",
       "  'amalawi',\n",
       "  'oyang',\n",
       "  'no',\n",
       "  'zathandiza',\n",
       "  'no',\n",
       "  'no',\n",
       "  'ubale',\n",
       "  'amalawi',\n",
       "  'no',\n",
       "  'edzi',\n",
       "  'ogwirizana',\n",
       "  'amalawi',\n",
       "  'yopereka',\n",
       "  'oxfam',\n",
       "  'oxfam',\n",
       "  'owona',\n",
       "  'owona',\n",
       "  'owona',\n",
       "  'owona',\n",
       "  'owona',\n",
       "  'unagwirizana',\n",
       "  'amalawi',\n",
       "  'oyang',\n",
       "  'no',\n",
       "  'zathandiza',\n",
       "  'no',\n",
       "  'no',\n",
       "  'ubale',\n",
       "  'amalawi',\n",
       "  'no',\n",
       "  'edzi',\n",
       "  'ogwirizana',\n",
       "  'amalawi',\n",
       "  'yopereka',\n",
       "  'oxfam',\n",
       "  'oxfam',\n",
       "  'owona',\n",
       "  'owona',\n",
       "  'owona',\n",
       "  'owona',\n",
       "  'owona',\n",
       "  'unagwirizana',\n",
       "  'amalawi',\n",
       "  'oyang',\n",
       "  'no',\n",
       "  'zathandiza',\n",
       "  'no',\n",
       "  'no',\n",
       "  'ubale',\n",
       "  'amalawi',\n",
       "  'no',\n",
       "  'edzi',\n",
       "  'ogwirizana'],\n",
       " tensor([[0.0263, 0.0229, 0.0307,  ..., 0.0182, 0.0124, 0.0133],\n",
       "         [0.0202, 0.0113, 0.0132,  ..., 0.0063, 0.0160, 0.0195],\n",
       "         [0.0216, 0.0184, 0.0125,  ..., 0.0132, 0.0161, 0.0118],\n",
       "         ...,\n",
       "         [0.0065, 0.0168, 0.0136,  ..., 0.0065, 0.0237, 0.0074],\n",
       "         [0.0264, 0.0072, 0.0277,  ..., 0.0073, 0.0230, 0.0128],\n",
       "         [0.0103, 0.0159, 0.0111,  ..., 0.0076, 0.0058, 0.0115]]))"
      ]
     },
     "execution_count": 23,
     "metadata": {},
     "output_type": "execute_result"
    }
   ],
   "source": [
    "evaluate(encoder1, attn_decoder1,\"by promoting climate change adaptive development in the long term\")"
   ]
  },
  {
   "cell_type": "code",
   "execution_count": null,
   "metadata": {},
   "outputs": [],
   "source": []
  },
  {
   "cell_type": "code",
   "execution_count": null,
   "metadata": {},
   "outputs": [],
   "source": []
  }
 ],
 "metadata": {
  "interpreter": {
   "hash": "f7291e4b392a32fbfa525b87d1bbd0a3d888adf3d0deca0c205c61b9e7284b82"
  },
  "kernelspec": {
   "display_name": "Python 3.6.5 64-bit",
   "name": "python3"
  },
  "language_info": {
   "name": "python",
   "version": ""
  }
 },
 "nbformat": 4,
 "nbformat_minor": 5
}